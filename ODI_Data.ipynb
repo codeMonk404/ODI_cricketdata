{
 "cells": [
  {
   "cell_type": "code",
   "execution_count": 0,
   "metadata": {
    "colab": {},
    "colab_type": "code",
    "id": "8AdOfCcU-zPW"
   },
   "outputs": [],
   "source": [
    "import csv \n",
    "import pandas as pd  \n",
    "from bs4 import BeautifulSoup as soup \n",
    "from urllib.request import urlopen as ureq \n",
    "import numpy as np\n",
    "import re\n",
    "import time\n",
    "import os"
   ]
  },
  {
   "cell_type": "code",
   "execution_count": 0,
   "metadata": {
    "colab": {},
    "colab_type": "code",
    "id": "F4sV32w3uLao"
   },
   "outputs": [],
   "source": [
    "from multiprocessing import cpu_count, Pool"
   ]
  },
  {
   "cell_type": "code",
   "execution_count": 0,
   "metadata": {
    "colab": {},
    "colab_type": "code",
    "id": "NW-vhC7v-7nY"
   },
   "outputs": [],
   "source": [
    "def scrap(x):\n",
    "  toscrap = 1\n",
    "  flag=0\n",
    "  if x==65:\n",
    "    flag=1\n",
    "  global s1\n",
    "  x = chr(x)\n",
    "  url = \"http://howstat.com/cricket/Statistics/Players/PlayerList.asp?Group={}\".format(x)\n",
    "  pagehtml = ureq(url)\n",
    "  s1 = soup(pagehtml,\"lxml\") #parse the html\n",
    "  table = s1.find(\"table\", { \"class\" : \"TableLined\" })\n",
    "  with open('Player.csv', 'a',newline='') as csvfile:\n",
    "    f = csv.writer(csvfile)\n",
    "    for x in table:\n",
    "      if toscrap == 1:\n",
    "        rows = table.find_all('tr') #find all tr tag(rows)\n",
    "        for tr in rows:\n",
    "          data=[]\n",
    "          d2 = []\n",
    "          cols = tr.find_all('td') #find all td tags(columns)\n",
    "          ms=0\n",
    "          for td in cols:\n",
    "            data.append(td.text.strip())\n",
    "            href = td.find_all('a')\n",
    "            if data[0] == 'Name' and ms == 5:\n",
    "              if flag == 1:\n",
    "                data.append('Code')\n",
    "            for hr in href:\n",
    "              if hr.has_attr('href') and ms == 4:\n",
    "                d2.append(hr.attrs['href'][-4: ])\n",
    "            ms=ms+1\n",
    "          data = data+d2\n",
    "          if len(data) == 7:\n",
    "            if data[4] != '':\n",
    "              f.writerow(data)\n",
    "          #print(data[0][0:3])\n",
    "          if data[0][0:3]=='No.':\n",
    "            toscrap=0\n",
    "    "
   ]
  },
  {
   "cell_type": "code",
   "execution_count": 0,
   "metadata": {
    "colab": {},
    "colab_type": "code",
    "id": "AGdSenCj_xwg"
   },
   "outputs": [],
   "source": [
    "for i in range(65,91):\n",
    "  scrap(i)\n",
    "  time.sleep(2)"
   ]
  },
  {
   "cell_type": "code",
   "execution_count": 5,
   "metadata": {
    "colab": {
     "base_uri": "https://localhost:8080/",
     "height": 34
    },
    "colab_type": "code",
    "id": "RXbx0Rk9_z_W",
    "outputId": "1e00a25b-5118-4728-d23a-869ce7614cb3"
   },
   "outputs": [
    {
     "name": "stdout",
     "output_type": "stream",
     "text": [
      "(2547, 7)\n"
     ]
    }
   ],
   "source": [
    "df = pd.read_csv(\"Player.csv\")\n",
    "print(df.shape)\n",
    "del df['Born']\n",
    "del df['Tests']\n",
    "del df['ODIs']\n",
    "del df['T20s']\n",
    "for i in range(1970,2020):\n",
    "  df[str(i)] = 0\n",
    "df.to_csv('Player2.csv', index=False)\n",
    "\n"
   ]
  },
  {
   "cell_type": "code",
   "execution_count": 0,
   "metadata": {
    "colab": {},
    "colab_type": "code",
    "id": "QPtTOBGgJBos"
   },
   "outputs": [],
   "source": [
    "def calc(df):\n",
    "  time.sleep(1)\n",
    "  for i in df.index.values:\n",
    "    \n",
    "#     print(df.index.values)\n",
    "#     print(df.loc[i,'Name'])\n",
    "    toscrap = 1\n",
    "    yrs=1970\n",
    "    total = 0\n",
    "    k=df.loc[i,'Code']\n",
    "    url = \"http://howstat.com/cricket/Statistics/Players/PlayerYears_ODI.asp?PlayerID={}\".format(k)\n",
    "    pagehtml = ureq(url)\n",
    "    s1 = soup(pagehtml,\"lxml\") \n",
    "    table = s1.find(\"table\", { \"class\" : \"TableLined\" })\n",
    "    if table:\n",
    "      for x in table:\n",
    "        if toscrap == 1:\n",
    "          rows = table.find_all('tr') \n",
    "          for tr in rows:\n",
    "            data=[]\n",
    "            cols = tr.find_all('td') \n",
    "            for td in cols:\n",
    "              data.append(td.text.strip())\n",
    "            if data[0]!='Year' and data[0][0:3]!='Ove':\n",
    "              for q in range(yrs,int(data[0])+1):\n",
    "                if data[0] == str(q):\n",
    "                  total = total+int(data[8])\n",
    "                  yrs=int(data[0])+1\n",
    "                df.loc[i,str(q)] = total\n",
    "            if data[0][0:3]=='Ove':\n",
    "              toscrap=0\n",
    "      for l in range(yrs,2020):\n",
    "        df.loc[i,str(l)] = total\n",
    "  return df"
   ]
  },
  {
   "cell_type": "code",
   "execution_count": 0,
   "metadata": {
    "colab": {},
    "colab_type": "code",
    "id": "Zqsmqi4iyneL"
   },
   "outputs": [],
   "source": [
    "cores = 10 \n",
    "partitions = cores \n",
    " \n",
    "def parallelize(d2, func):\n",
    "    data_split = np.array_split(d2, partitions)\n",
    "    pool = Pool(cores)\n",
    "    d2 = pd.concat(pool.map(func, data_split))\n",
    "    pool.close()\n",
    "    pool.join()\n",
    "    return d2"
   ]
  },
  {
   "cell_type": "code",
   "execution_count": 0,
   "metadata": {
    "colab": {},
    "colab_type": "code",
    "id": "ZndUeJPPuT0c"
   },
   "outputs": [],
   "source": [
    "d1 = pd.read_csv(\"Player2.csv\")\n",
    "result = parallelize(d1, calc);\n",
    "result.head(2547)\n",
    "del result['Code']\n",
    "result.to_csv('OdiFinal.csv',index=False)\n",
    "os.remove('Player2.csv')\n",
    "os.remove('Player.csv')"
   ]
  },
  {
   "cell_type": "code",
   "execution_count": 0,
   "metadata": {
    "colab": {},
    "colab_type": "code",
    "id": "nYoxsHCYQkF-"
   },
   "outputs": [],
   "source": []
  },
  {
   "cell_type": "markdown",
   "metadata": {
    "colab_type": "text",
    "id": "zz6GsfyusAM4"
   },
   "source": []
  }
 ],
 "metadata": {
  "colab": {
   "collapsed_sections": [],
   "name": "ODI_Data.ipynb",
   "provenance": [],
   "version": "0.3.2"
  },
  "kernelspec": {
   "display_name": "Python 3",
   "language": "python",
   "name": "python3"
  },
  "language_info": {
   "codemirror_mode": {
    "name": "ipython",
    "version": 3
   },
   "file_extension": ".py",
   "mimetype": "text/x-python",
   "name": "python",
   "nbconvert_exporter": "python",
   "pygments_lexer": "ipython3",
   "version": "3.6.4"
  }
 },
 "nbformat": 4,
 "nbformat_minor": 1
}
